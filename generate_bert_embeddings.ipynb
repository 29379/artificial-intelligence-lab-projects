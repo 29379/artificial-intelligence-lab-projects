{
  "cells": [
    {
      "attachments": {},
      "cell_type": "markdown",
      "metadata": {
        "id": "kbT6CaFYXNzT"
      },
      "source": [
        "<h3>Install necessary package</h3>"
      ]
    },
    {
      "cell_type": "code",
      "execution_count": 1,
      "metadata": {
        "colab": {
          "base_uri": "https://localhost:8080/"
        },
        "id": "E2GisfgzT1a4",
        "outputId": "3f251448-8e34-4256-e18b-59496efe0d93"
      },
      "outputs": [
        {
          "name": "stdout",
          "output_type": "stream",
          "text": [
            "Collecting sentence_transformers\n",
            "  Downloading sentence-transformers-2.2.2.tar.gz (85 kB)\n",
            "                                              0.0/86.0 kB ? eta -:--:--\n",
            "     ------------------                     41.0/86.0 kB 960.0 kB/s eta 0:00:01\n",
            "     ---------------------------------------- 86.0/86.0 kB 1.6 MB/s eta 0:00:00\n",
            "  Preparing metadata (setup.py): started\n",
            "  Preparing metadata (setup.py): finished with status 'done'\n",
            "Collecting transformers<5.0.0,>=4.6.0 (from sentence_transformers)\n",
            "  Downloading transformers-4.29.2-py3-none-any.whl (7.1 MB)\n",
            "                                              0.0/7.1 MB ? eta -:--:--\n",
            "     -                                        0.2/7.1 MB 4.6 MB/s eta 0:00:02\n",
            "     --                                       0.5/7.1 MB 5.1 MB/s eta 0:00:02\n",
            "     -----                                    1.0/7.1 MB 8.1 MB/s eta 0:00:01\n",
            "     -------------                            2.4/7.1 MB 12.5 MB/s eta 0:00:01\n",
            "     -------------------------                4.6/7.1 MB 19.6 MB/s eta 0:00:01\n",
            "     --------------------------------------   6.9/7.1 MB 24.4 MB/s eta 0:00:01\n",
            "     ---------------------------------------- 7.1/7.1 MB 21.6 MB/s eta 0:00:00\n",
            "Requirement already satisfied: tqdm in c:\\users\\lenovo\\appdata\\local\\programs\\python\\python310\\lib\\site-packages (from sentence_transformers) (4.64.0)\n",
            "Collecting torch>=1.6.0 (from sentence_transformers)\n",
            "  Downloading torch-2.0.1-cp310-cp310-win_amd64.whl (172.3 MB)\n",
            "                                              0.0/172.3 MB ? eta -:--:--\n",
            "                                             2.0/172.3 MB 41.8 MB/s eta 0:00:05\n",
            "                                             3.9/172.3 MB 41.7 MB/s eta 0:00:05\n",
            "     -                                       6.1/172.3 MB 43.4 MB/s eta 0:00:04\n",
            "     -                                       8.3/172.3 MB 48.0 MB/s eta 0:00:04\n",
            "     --                                     10.6/172.3 MB 50.4 MB/s eta 0:00:04\n",
            "     --                                     12.8/172.3 MB 46.7 MB/s eta 0:00:04\n",
            "     ---                                    14.2/172.3 MB 50.4 MB/s eta 0:00:04\n",
            "     ---                                    16.3/172.3 MB 43.5 MB/s eta 0:00:04\n",
            "     ----                                   18.5/172.3 MB 43.5 MB/s eta 0:00:04\n",
            "     ----                                   20.7/172.3 MB 43.5 MB/s eta 0:00:04\n",
            "     ----                                   22.7/172.3 MB 46.7 MB/s eta 0:00:04\n",
            "     -----                                  23.6/172.3 MB 38.6 MB/s eta 0:00:04\n",
            "     -----                                  25.2/172.3 MB 40.9 MB/s eta 0:00:04\n",
            "     -----                                  26.8/172.3 MB 38.5 MB/s eta 0:00:04\n",
            "     ------                                 28.9/172.3 MB 38.5 MB/s eta 0:00:04\n",
            "     ------                                 31.3/172.3 MB 36.4 MB/s eta 0:00:04\n",
            "     -------                                33.5/172.3 MB 43.5 MB/s eta 0:00:04\n",
            "     -------                                35.7/172.3 MB 43.5 MB/s eta 0:00:04\n",
            "     --------                               37.8/172.3 MB 46.9 MB/s eta 0:00:03\n",
            "     --------                               40.0/172.3 MB 46.9 MB/s eta 0:00:03\n",
            "     ---------                              42.3/172.3 MB 46.7 MB/s eta 0:00:03\n",
            "     ---------                              44.6/172.3 MB 50.4 MB/s eta 0:00:03\n",
            "     ----------                             46.7/172.3 MB 50.4 MB/s eta 0:00:03\n",
            "     ----------                             48.9/172.3 MB 50.4 MB/s eta 0:00:03\n",
            "     -----------                            51.0/172.3 MB 46.7 MB/s eta 0:00:03\n",
            "     -----------                            53.2/172.3 MB 46.7 MB/s eta 0:00:03\n",
            "     ------------                           55.5/172.3 MB 46.7 MB/s eta 0:00:03\n",
            "     ------------                           57.8/172.3 MB 46.7 MB/s eta 0:00:03\n",
            "     -------------                          60.0/172.3 MB 46.7 MB/s eta 0:00:03\n",
            "     -------------                          62.1/172.3 MB 46.9 MB/s eta 0:00:03\n",
            "     --------------                         63.5/172.3 MB 46.7 MB/s eta 0:00:03\n",
            "     --------------                         63.5/172.3 MB 46.7 MB/s eta 0:00:03\n",
            "     --------------                         63.5/172.3 MB 46.7 MB/s eta 0:00:03\n",
            "     --------------                         67.0/172.3 MB 34.4 MB/s eta 0:00:04\n",
            "     ---------------                        68.3/172.3 MB 36.3 MB/s eta 0:00:03\n",
            "     ---------------                        68.3/172.3 MB 36.3 MB/s eta 0:00:03\n",
            "     ---------------                        68.4/172.3 MB 25.1 MB/s eta 0:00:05\n",
            "     ----------------                       73.1/172.3 MB 28.5 MB/s eta 0:00:04\n",
            "     ----------------                       74.4/172.3 MB 38.6 MB/s eta 0:00:03\n",
            "     ----------------                       75.5/172.3 MB 34.4 MB/s eta 0:00:03\n",
            "     -----------------                      77.7/172.3 MB 31.2 MB/s eta 0:00:04\n",
            "     -----------------                      80.0/172.3 MB 50.4 MB/s eta 0:00:02\n",
            "     ------------------                     82.3/172.3 MB 43.5 MB/s eta 0:00:03\n",
            "     ------------------                     84.5/172.3 MB 40.9 MB/s eta 0:00:03\n",
            "     -------------------                    86.7/172.3 MB 46.7 MB/s eta 0:00:02\n",
            "     -------------------                    88.9/172.3 MB 50.4 MB/s eta 0:00:02\n",
            "     --------------------                   91.2/172.3 MB 46.9 MB/s eta 0:00:02\n",
            "     --------------------                   93.5/172.3 MB 46.7 MB/s eta 0:00:02\n",
            "     ---------------------                  95.7/172.3 MB 46.7 MB/s eta 0:00:02\n",
            "     ---------------------                  97.8/172.3 MB 46.7 MB/s eta 0:00:02\n",
            "     ---------------------                 100.0/172.3 MB 46.7 MB/s eta 0:00:02\n",
            "     ---------------------                 102.3/172.3 MB 50.4 MB/s eta 0:00:02\n",
            "     ----------------------                104.7/172.3 MB 54.4 MB/s eta 0:00:02\n",
            "     ----------------------                106.9/172.3 MB 50.4 MB/s eta 0:00:02\n",
            "     -----------------------               109.4/172.3 MB 50.4 MB/s eta 0:00:02\n",
            "     ------------------------              111.9/172.3 MB 50.1 MB/s eta 0:00:02\n",
            "     ------------------------              114.3/172.3 MB 54.7 MB/s eta 0:00:02\n",
            "     -------------------------             116.8/172.3 MB 54.7 MB/s eta 0:00:02\n",
            "     -------------------------             118.8/172.3 MB 50.4 MB/s eta 0:00:02\n",
            "     --------------------------            121.3/172.3 MB 50.4 MB/s eta 0:00:02\n",
            "     --------------------------            123.5/172.3 MB 50.4 MB/s eta 0:00:01\n",
            "     ---------------------------           126.2/172.3 MB 50.4 MB/s eta 0:00:01\n",
            "     ---------------------------           128.6/172.3 MB 50.4 MB/s eta 0:00:01\n",
            "     ----------------------------          131.1/172.3 MB 50.1 MB/s eta 0:00:01\n",
            "     ----------------------------          133.3/172.3 MB 50.4 MB/s eta 0:00:01\n",
            "     -----------------------------         135.9/172.3 MB 50.4 MB/s eta 0:00:01\n",
            "     -----------------------------         137.9/172.3 MB 50.4 MB/s eta 0:00:01\n",
            "     ------------------------------        140.2/172.3 MB 50.4 MB/s eta 0:00:01\n",
            "     ------------------------------        142.4/172.3 MB 46.7 MB/s eta 0:00:01\n",
            "     -------------------------------       144.7/172.3 MB 46.7 MB/s eta 0:00:01\n",
            "     -------------------------------       146.7/172.3 MB 46.7 MB/s eta 0:00:01\n",
            "     -------------------------------       149.0/172.3 MB 46.7 MB/s eta 0:00:01\n",
            "     --------------------------------      151.3/172.3 MB 46.9 MB/s eta 0:00:01\n",
            "     --------------------------------      153.5/172.3 MB 50.4 MB/s eta 0:00:01\n",
            "     ---------------------------------     155.5/172.3 MB 43.7 MB/s eta 0:00:01\n",
            "     ---------------------------------     157.7/172.3 MB 50.4 MB/s eta 0:00:01\n",
            "     ----------------------------------    160.0/172.3 MB 50.4 MB/s eta 0:00:01\n",
            "     ----------------------------------    162.4/172.3 MB 50.4 MB/s eta 0:00:01\n",
            "     -----------------------------------   164.6/172.3 MB 50.4 MB/s eta 0:00:01\n",
            "     -----------------------------------   166.9/172.3 MB 50.4 MB/s eta 0:00:01\n",
            "     ------------------------------------  169.0/172.3 MB 50.4 MB/s eta 0:00:01\n",
            "     ------------------------------------  171.2/172.3 MB 50.4 MB/s eta 0:00:01\n",
            "     ------------------------------------  172.3/172.3 MB 46.7 MB/s eta 0:00:01\n",
            "     ------------------------------------  172.3/172.3 MB 46.7 MB/s eta 0:00:01\n",
            "     ------------------------------------  172.3/172.3 MB 46.7 MB/s eta 0:00:01\n",
            "     ------------------------------------  172.3/172.3 MB 46.7 MB/s eta 0:00:01\n",
            "     ------------------------------------  172.3/172.3 MB 46.7 MB/s eta 0:00:01\n",
            "     ------------------------------------  172.3/172.3 MB 46.7 MB/s eta 0:00:01\n",
            "     ------------------------------------- 172.3/172.3 MB 17.7 MB/s eta 0:00:00\n",
            "Collecting torchvision (from sentence_transformers)\n",
            "  Downloading torchvision-0.15.2-cp310-cp310-win_amd64.whl (1.2 MB)\n",
            "                                              0.0/1.2 MB ? eta -:--:--\n",
            "     ---------------------------------------- 1.2/1.2 MB 38.2 MB/s eta 0:00:00\n",
            "Requirement already satisfied: numpy in c:\\users\\lenovo\\appdata\\local\\programs\\python\\python310\\lib\\site-packages (from sentence_transformers) (1.23.1)\n",
            "Requirement already satisfied: scikit-learn in c:\\users\\lenovo\\appdata\\roaming\\python\\python310\\site-packages (from sentence_transformers) (1.1.1)\n",
            "Requirement already satisfied: scipy in c:\\users\\lenovo\\appdata\\local\\programs\\python\\python310\\lib\\site-packages (from sentence_transformers) (1.8.1)\n",
            "Requirement already satisfied: nltk in c:\\users\\lenovo\\appdata\\local\\programs\\python\\python310\\lib\\site-packages (from sentence_transformers) (3.7)\n",
            "Collecting sentencepiece (from sentence_transformers)\n",
            "  Downloading sentencepiece-0.1.99-cp310-cp310-win_amd64.whl (977 kB)\n",
            "                                              0.0/977.5 kB ? eta -:--:--\n",
            "     ------------------------------------- 977.5/977.5 kB 64.5 MB/s eta 0:00:00\n",
            "Collecting huggingface-hub>=0.4.0 (from sentence_transformers)\n",
            "  Downloading huggingface_hub-0.15.1-py3-none-any.whl (236 kB)\n",
            "                                              0.0/236.8 kB ? eta -:--:--\n",
            "     ---------------------------------------- 236.8/236.8 kB ? eta 0:00:00\n",
            "Requirement already satisfied: filelock in c:\\users\\lenovo\\appdata\\local\\programs\\python\\python310\\lib\\site-packages (from huggingface-hub>=0.4.0->sentence_transformers) (3.6.0)\n",
            "Collecting fsspec (from huggingface-hub>=0.4.0->sentence_transformers)\n",
            "  Downloading fsspec-2023.5.0-py3-none-any.whl (160 kB)\n",
            "                                              0.0/160.1 kB ? eta -:--:--\n",
            "     ---------------------------------------- 160.1/160.1 kB ? eta 0:00:00\n",
            "Requirement already satisfied: requests in c:\\users\\lenovo\\appdata\\local\\programs\\python\\python310\\lib\\site-packages (from huggingface-hub>=0.4.0->sentence_transformers) (2.27.1)\n",
            "Requirement already satisfied: pyyaml>=5.1 in c:\\users\\lenovo\\appdata\\local\\programs\\python\\python310\\lib\\site-packages (from huggingface-hub>=0.4.0->sentence_transformers) (6.0)\n",
            "Requirement already satisfied: typing-extensions>=3.7.4.3 in c:\\users\\lenovo\\appdata\\local\\programs\\python\\python310\\lib\\site-packages (from huggingface-hub>=0.4.0->sentence_transformers) (4.2.0)\n",
            "Requirement already satisfied: packaging>=20.9 in c:\\users\\lenovo\\appdata\\local\\programs\\python\\python310\\lib\\site-packages (from huggingface-hub>=0.4.0->sentence_transformers) (21.3)\n",
            "Collecting sympy (from torch>=1.6.0->sentence_transformers)\n",
            "  Downloading sympy-1.12-py3-none-any.whl (5.7 MB)\n",
            "                                              0.0/5.7 MB ? eta -:--:--\n",
            "     ----------------                         2.4/5.7 MB 77.6 MB/s eta 0:00:01\n",
            "     ----------------------------             4.2/5.7 MB 66.9 MB/s eta 0:00:01\n",
            "     ---------------------------------------- 5.7/5.7 MB 52.6 MB/s eta 0:00:00\n",
            "Collecting networkx (from torch>=1.6.0->sentence_transformers)\n",
            "  Downloading networkx-3.1-py3-none-any.whl (2.1 MB)\n",
            "                                              0.0/2.1 MB ? eta -:--:--\n",
            "     ------------------------------------     1.9/2.1 MB 39.9 MB/s eta 0:00:01\n",
            "     ---------------------------------------- 2.1/2.1 MB 33.3 MB/s eta 0:00:00\n",
            "Collecting jinja2 (from torch>=1.6.0->sentence_transformers)\n",
            "  Using cached Jinja2-3.1.2-py3-none-any.whl (133 kB)\n",
            "Requirement already satisfied: colorama in c:\\users\\lenovo\\appdata\\local\\programs\\python\\python310\\lib\\site-packages (from tqdm->sentence_transformers) (0.4.4)\n",
            "Requirement already satisfied: regex!=2019.12.17 in c:\\users\\lenovo\\appdata\\local\\programs\\python\\python310\\lib\\site-packages (from transformers<5.0.0,>=4.6.0->sentence_transformers) (2022.4.24)\n",
            "Collecting tokenizers!=0.11.3,<0.14,>=0.11.1 (from transformers<5.0.0,>=4.6.0->sentence_transformers)\n",
            "  Downloading tokenizers-0.13.3-cp310-cp310-win_amd64.whl (3.5 MB)\n",
            "                                              0.0/3.5 MB ? eta -:--:--\n",
            "     -------------------                      1.7/3.5 MB 36.4 MB/s eta 0:00:01\n",
            "     ---------------------------------------- 3.5/3.5 MB 44.3 MB/s eta 0:00:00\n",
            "Requirement already satisfied: click in c:\\users\\lenovo\\appdata\\local\\programs\\python\\python310\\lib\\site-packages (from nltk->sentence_transformers) (8.0.4)\n",
            "Requirement already satisfied: joblib in c:\\users\\lenovo\\appdata\\local\\programs\\python\\python310\\lib\\site-packages (from nltk->sentence_transformers) (1.1.0)\n",
            "Requirement already satisfied: threadpoolctl>=2.0.0 in c:\\users\\lenovo\\appdata\\local\\programs\\python\\python310\\lib\\site-packages (from scikit-learn->sentence_transformers) (3.1.0)\n",
            "Requirement already satisfied: pillow!=8.3.*,>=5.3.0 in c:\\users\\lenovo\\appdata\\local\\programs\\python\\python310\\lib\\site-packages (from torchvision->sentence_transformers) (9.1.0)\n",
            "Requirement already satisfied: pyparsing!=3.0.5,>=2.0.2 in c:\\users\\lenovo\\appdata\\local\\programs\\python\\python310\\lib\\site-packages (from packaging>=20.9->huggingface-hub>=0.4.0->sentence_transformers) (3.0.8)\n",
            "Requirement already satisfied: MarkupSafe>=2.0 in c:\\users\\lenovo\\appdata\\local\\programs\\python\\python310\\lib\\site-packages (from jinja2->torch>=1.6.0->sentence_transformers) (2.1.1)\n",
            "Requirement already satisfied: urllib3<1.27,>=1.21.1 in c:\\users\\lenovo\\appdata\\local\\programs\\python\\python310\\lib\\site-packages (from requests->huggingface-hub>=0.4.0->sentence_transformers) (1.26.9)\n",
            "Requirement already satisfied: certifi>=2017.4.17 in c:\\users\\lenovo\\appdata\\local\\programs\\python\\python310\\lib\\site-packages (from requests->huggingface-hub>=0.4.0->sentence_transformers) (2021.10.8)\n",
            "Requirement already satisfied: charset-normalizer~=2.0.0 in c:\\users\\lenovo\\appdata\\local\\programs\\python\\python310\\lib\\site-packages (from requests->huggingface-hub>=0.4.0->sentence_transformers) (2.0.12)\n",
            "Requirement already satisfied: idna<4,>=2.5 in c:\\users\\lenovo\\appdata\\local\\programs\\python\\python310\\lib\\site-packages (from requests->huggingface-hub>=0.4.0->sentence_transformers) (3.3)\n",
            "Collecting mpmath>=0.19 (from sympy->torch>=1.6.0->sentence_transformers)\n",
            "  Downloading mpmath-1.3.0-py3-none-any.whl (536 kB)\n",
            "                                              0.0/536.2 kB ? eta -:--:--\n",
            "     ------------------------------------- 536.2/536.2 kB 35.1 MB/s eta 0:00:00\n",
            "Building wheels for collected packages: sentence_transformers\n",
            "  Building wheel for sentence_transformers (setup.py): started\n",
            "  Building wheel for sentence_transformers (setup.py): finished with status 'done'\n",
            "  Created wheel for sentence_transformers: filename=sentence_transformers-2.2.2-py3-none-any.whl size=125938 sha256=4ef5aa331d491811bb2ce074ca25a0f03045047b6cddc2e0141a3c9c8112d9cc\n",
            "  Stored in directory: c:\\users\\lenovo\\appdata\\local\\pip\\cache\\wheels\\62\\f2\\10\\1e606fd5f02395388f74e7462910fe851042f97238cbbd902f\n",
            "Successfully built sentence_transformers\n",
            "Installing collected packages: tokenizers, sentencepiece, mpmath, sympy, networkx, jinja2, fsspec, torch, huggingface-hub, transformers, torchvision, sentence_transformers\n",
            "Successfully installed fsspec-2023.5.0 huggingface-hub-0.15.1 jinja2-3.1.2 mpmath-1.3.0 networkx-3.1 sentence_transformers-2.2.2 sentencepiece-0.1.99 sympy-1.12 tokenizers-0.13.3 torch-2.0.1 torchvision-0.15.2 transformers-4.29.2\n"
          ]
        }
      ],
      "source": [
        "!pip install sentence_transformers"
      ]
    },
    {
      "attachments": {},
      "cell_type": "markdown",
      "metadata": {
        "id": "mZy9E3nJXVWT"
      },
      "source": [
        "<h3>Import class from the installed package</h3>"
      ]
    },
    {
      "cell_type": "code",
      "execution_count": 1,
      "metadata": {
        "id": "neiPf_AhSvQu"
      },
      "outputs": [
        {
          "name": "stderr",
          "output_type": "stream",
          "text": [
            "d:\\University Projects\\SI\\Lista5\\venv\\lib\\site-packages\\tqdm\\auto.py:21: TqdmWarning: IProgress not found. Please update jupyter and ipywidgets. See https://ipywidgets.readthedocs.io/en/stable/user_install.html\n",
            "  from .autonotebook import tqdm as notebook_tqdm\n"
          ]
        }
      ],
      "source": [
        "from sentence_transformers import SentenceTransformer"
      ]
    },
    {
      "attachments": {},
      "cell_type": "markdown",
      "metadata": {
        "id": "Qi3scihVXcI5"
      },
      "source": [
        "<h3>Download BERT model</h3>"
      ]
    },
    {
      "cell_type": "code",
      "execution_count": 2,
      "metadata": {
        "colab": {
          "base_uri": "https://localhost:8080/"
        },
        "id": "7WLwyZEeUGGT",
        "outputId": "288ca7e7-8cb1-48be-a86b-5d24fda56053"
      },
      "outputs": [
        {
          "name": "stderr",
          "output_type": "stream",
          "text": [
            "No sentence-transformers model found with name C:\\Users\\Lenovo/.cache\\torch\\sentence_transformers\\bert-base-cased. Creating a new one with MEAN pooling.\n",
            "Some weights of the model checkpoint at C:\\Users\\Lenovo/.cache\\torch\\sentence_transformers\\bert-base-cased were not used when initializing BertModel: ['cls.predictions.transform.dense.weight', 'cls.predictions.bias', 'cls.predictions.transform.LayerNorm.weight', 'cls.predictions.transform.LayerNorm.bias', 'cls.predictions.transform.dense.bias', 'cls.seq_relationship.weight', 'cls.seq_relationship.bias']\n",
            "- This IS expected if you are initializing BertModel from the checkpoint of a model trained on another task or with another architecture (e.g. initializing a BertForSequenceClassification model from a BertForPreTraining model).\n",
            "- This IS NOT expected if you are initializing BertModel from the checkpoint of a model that you expect to be exactly identical (initializing a BertForSequenceClassification model from a BertForSequenceClassification model).\n"
          ]
        }
      ],
      "source": [
        "model = SentenceTransformer('bert-base-cased')"
      ]
    },
    {
      "attachments": {},
      "cell_type": "markdown",
      "metadata": {
        "id": "GHau-0a2XmnX"
      },
      "source": [
        "<h3>Generate embeddings for the specified list of texts</h3>"
      ]
    },
    {
      "cell_type": "code",
      "execution_count": 3,
      "metadata": {
        "colab": {
          "base_uri": "https://localhost:8080/"
        },
        "id": "syWVnL4AUOJQ",
        "outputId": "9ce500c8-1f49-44a0-ec45-673a5fd31709"
      },
      "outputs": [
        {
          "data": {
            "text/plain": [
              "(2, 768)"
            ]
          },
          "execution_count": 3,
          "metadata": {},
          "output_type": "execute_result"
        }
      ],
      "source": [
        "texts_list = [\"Hello, my dog is cute.\", \"I love Artificial Intelligence. Machine Learning is my passion!\"]\n",
        "\n",
        "embeddings = model.encode(texts_list)\n",
        "\n",
        "embeddings.shape"
      ]
    }
  ],
  "metadata": {
    "colab": {
      "provenance": []
    },
    "kernelspec": {
      "display_name": "Python 3",
      "name": "python3"
    },
    "language_info": {
      "codemirror_mode": {
        "name": "ipython",
        "version": 3
      },
      "file_extension": ".py",
      "mimetype": "text/x-python",
      "name": "python",
      "nbconvert_exporter": "python",
      "pygments_lexer": "ipython3",
      "version": "3.10.10"
    }
  },
  "nbformat": 4,
  "nbformat_minor": 0
}
