{
  "cells": [
    {
      "attachments": {},
      "cell_type": "markdown",
      "metadata": {
        "id": "SiRkGBY8Yqa4"
      },
      "source": [
        "<h3>Download necessary package</h3>"
      ]
    },
    {
      "cell_type": "code",
      "execution_count": 1,
      "metadata": {
        "colab": {
          "base_uri": "https://localhost:8080/"
        },
        "id": "SSroN2kkYul4",
        "outputId": "9b6995f6-d6be-4acd-8b09-bcddcd50b9bb"
      },
      "outputs": [
        {
          "name": "stderr",
          "output_type": "stream",
          "text": [
            "'sudo' is not recognized as an internal or external command,\n",
            "operable program or batch file.\n"
          ]
        },
        {
          "name": "stdout",
          "output_type": "stream",
          "text": [
            "Collecting fasttext\n",
            "  Downloading fasttext-0.9.2.tar.gz (68 kB)\n",
            "Requirement already satisfied: numpy in d:\\university projects\\si\\lista5\\venv\\lib\\site-packages (1.24.3)\n",
            "Collecting pybind11>=2.2\n",
            "  Using cached pybind11-2.10.4-py3-none-any.whl (222 kB)\n",
            "Requirement already satisfied: setuptools>=0.7.0 in d:\\university projects\\si\\lista5\\venv\\lib\\site-packages (from fasttext) (58.1.0)\n",
            "Using legacy 'setup.py install' for fasttext, since package 'wheel' is not installed.\n",
            "Installing collected packages: pybind11, fasttext\n",
            "    Running setup.py install for fasttext: started\n",
            "    Running setup.py install for fasttext: finished with status 'error'\n"
          ]
        },
        {
          "name": "stderr",
          "output_type": "stream",
          "text": [
            "    ERROR: Command errored out with exit status 1:\n",
            "     command: 'D:\\University Projects\\SI\\Lista5\\venv\\Scripts\\python.exe' -u -c 'import io, os, sys, setuptools, tokenize; sys.argv[0] = '\"'\"'C:\\\\Users\\\\Lenovo\\\\AppData\\\\Local\\\\Temp\\\\pip-install-1rwj6oh0\\\\fasttext_3e8e2613850949db9d6401706471c74b\\\\setup.py'\"'\"'; __file__='\"'\"'C:\\\\Users\\\\Lenovo\\\\AppData\\\\Local\\\\Temp\\\\pip-install-1rwj6oh0\\\\fasttext_3e8e2613850949db9d6401706471c74b\\\\setup.py'\"'\"';f = getattr(tokenize, '\"'\"'open'\"'\"', open)(__file__) if os.path.exists(__file__) else io.StringIO('\"'\"'from setuptools import setup; setup()'\"'\"');code = f.read().replace('\"'\"'\\r\\n'\"'\"', '\"'\"'\\n'\"'\"');f.close();exec(compile(code, __file__, '\"'\"'exec'\"'\"'))' install --record 'C:\\Users\\Lenovo\\AppData\\Local\\Temp\\pip-record-iqutncws\\install-record.txt' --single-version-externally-managed --compile --install-headers 'D:\\University Projects\\SI\\Lista5\\venv\\include\\site\\python3.10\\fasttext'\n",
            "         cwd: C:\\Users\\Lenovo\\AppData\\Local\\Temp\\pip-install-1rwj6oh0\\fasttext_3e8e2613850949db9d6401706471c74b\\\n",
            "    Complete output (62 lines):\n",
            "    D:\\University Projects\\SI\\Lista5\\venv\\lib\\site-packages\\setuptools\\dist.py:717: UserWarning: Usage of dash-separated 'description-file' will not be supported in future versions. Please use the underscore name 'description_file' instead\n",
            "      warnings.warn(\n",
            "    running install\n",
            "    running build\n",
            "    running build_py\n",
            "    creating build\n",
            "    creating build\\lib.win-amd64-3.10\n",
            "    creating build\\lib.win-amd64-3.10\\fasttext\n",
            "    copying python\\fasttext_module\\fasttext\\FastText.py -> build\\lib.win-amd64-3.10\\fasttext\n",
            "    copying python\\fasttext_module\\fasttext\\__init__.py -> build\\lib.win-amd64-3.10\\fasttext\n",
            "    creating build\\lib.win-amd64-3.10\\fasttext\\util\n",
            "    copying python\\fasttext_module\\fasttext\\util\\util.py -> build\\lib.win-amd64-3.10\\fasttext\\util\n",
            "    copying python\\fasttext_module\\fasttext\\util\\__init__.py -> build\\lib.win-amd64-3.10\\fasttext\\util\n",
            "    creating build\\lib.win-amd64-3.10\\fasttext\\tests\n",
            "    copying python\\fasttext_module\\fasttext\\tests\\test_configurations.py -> build\\lib.win-amd64-3.10\\fasttext\\tests\n",
            "    copying python\\fasttext_module\\fasttext\\tests\\test_script.py -> build\\lib.win-amd64-3.10\\fasttext\\tests\n",
            "    copying python\\fasttext_module\\fasttext\\tests\\__init__.py -> build\\lib.win-amd64-3.10\\fasttext\\tests\n",
            "    running build_ext\n",
            "    building 'fasttext_pybind' extension\n",
            "    creating build\\temp.win-amd64-3.10\n",
            "    creating build\\temp.win-amd64-3.10\\Release\n",
            "    creating build\\temp.win-amd64-3.10\\Release\\python\n",
            "    creating build\\temp.win-amd64-3.10\\Release\\python\\fasttext_module\n",
            "    creating build\\temp.win-amd64-3.10\\Release\\python\\fasttext_module\\fasttext\n",
            "    creating build\\temp.win-amd64-3.10\\Release\\python\\fasttext_module\\fasttext\\pybind\n",
            "    creating build\\temp.win-amd64-3.10\\Release\\src\n",
            "    C:\\Program Files\\Microsoft Visual Studio\\2022\\Community\\VC\\Tools\\MSVC\\14.34.31933\\bin\\HostX86\\x64\\cl.exe /c /nologo /Ox /W3 /GL /DNDEBUG /MD -ID:\\University Projects\\SI\\Lista5\\venv\\lib\\site-packages\\pybind11\\include -ID:\\University Projects\\SI\\Lista5\\venv\\lib\\site-packages\\pybind11\\include -Isrc -ID:\\University Projects\\SI\\Lista5\\venv\\include -IC:\\Users\\Lenovo\\AppData\\Local\\Programs\\Python\\Python310\\include -IC:\\Users\\Lenovo\\AppData\\Local\\Programs\\Python\\Python310\\Include -IC:\\Program Files\\Microsoft Visual Studio\\2022\\Community\\VC\\Tools\\MSVC\\14.34.31933\\include -IC:\\Program Files\\Microsoft Visual Studio\\2022\\Community\\VC\\Tools\\MSVC\\14.34.31933\\ATLMFC\\include -IC:\\Program Files\\Microsoft Visual Studio\\2022\\Community\\VC\\Auxiliary\\VS\\include -IC:\\Program Files (x86)\\Windows Kits\\10\\include\\10.0.22000.0\\ucrt -IC:\\Program Files (x86)\\Windows Kits\\10\\\\include\\10.0.22000.0\\\\um -IC:\\Program Files (x86)\\Windows Kits\\10\\\\include\\10.0.22000.0\\\\shared -IC:\\Program Files (x86)\\Windows Kits\\10\\\\include\\10.0.22000.0\\\\winrt -IC:\\Program Files (x86)\\Windows Kits\\10\\\\include\\10.0.22000.0\\\\cppwinrt -IC:\\Program Files (x86)\\Windows Kits\\NETFXSDK\\4.8\\include\\um /EHsc /Tppython/fasttext_module/fasttext/pybind/fasttext_pybind.cc /Fobuild\\temp.win-amd64-3.10\\Release\\python/fasttext_module/fasttext/pybind/fasttext_pybind.obj /EHsc /DVERSION_INFO=\\\"0.9.2\\\"\n",
            "    fasttext_pybind.cc\n",
            "    python/fasttext_module/fasttext/pybind/fasttext_pybind.cc(171): error C2065: 'ssize_t': undeclared identifier\n",
            "    python/fasttext_module/fasttext/pybind/fasttext_pybind.cc(171): error C2672: 'pybind11::init': no matching overloaded function found\n",
            "    D:\\University Projects\\SI\\Lista5\\venv\\lib\\site-packages\\pybind11\\include\\pybind11\\pybind11.h(1924): note: could be 'Ret pybind11::init(CFunc &&,AFunc &&)'\n",
            "    python/fasttext_module/fasttext/pybind/fasttext_pybind.cc(171): note: 'pybind11::init': invalid template argument for 'CFunc', type expected\n",
            "    D:\\University Projects\\SI\\Lista5\\venv\\lib\\site-packages\\pybind11\\include\\pybind11\\pybind11.h(1916): note: or       'Ret pybind11::init(Func &&)'\n",
            "    python/fasttext_module/fasttext/pybind/fasttext_pybind.cc(171): note: 'pybind11::init': invalid template argument for 'Func', type expected\n",
            "    D:\\University Projects\\SI\\Lista5\\venv\\lib\\site-packages\\pybind11\\include\\pybind11\\pybind11.h(1904): note: or       'pybind11::detail::initimpl::constructor<Args...> pybind11::init(void)'\n",
            "    python/fasttext_module/fasttext/pybind/fasttext_pybind.cc(171): note: 'pybind11::init': invalid template argument for 'Args', type expected\n",
            "    python/fasttext_module/fasttext/pybind/fasttext_pybind.cc(171): error C2672: 'pybind11::class_<fasttext::Vector>::def': no matching overloaded function found\n",
            "    D:\\University Projects\\SI\\Lista5\\venv\\lib\\site-packages\\pybind11\\include\\pybind11\\pybind11.h(1624): note: could be 'pybind11::class_<fasttext::Vector> &pybind11::class_<fasttext::Vector>::def(pybind11::detail::initimpl::pickle_factory<Args...> &&,const Extra &...)'\n",
            "    D:\\University Projects\\SI\\Lista5\\venv\\lib\\site-packages\\pybind11\\include\\pybind11\\pybind11.h(1618): note: or       'pybind11::class_<fasttext::Vector> &pybind11::class_<fasttext::Vector>::def(pybind11::detail::initimpl::factory<Args...> &&,const Extra &...)'\n",
            "    D:\\University Projects\\SI\\Lista5\\venv\\lib\\site-packages\\pybind11\\include\\pybind11\\pybind11.h(1611): note: or       'pybind11::class_<fasttext::Vector> &pybind11::class_<fasttext::Vector>::def(const pybind11::detail::initimpl::alias_constructor<Args...> &,const Extra &...)'\n",
            "    D:\\University Projects\\SI\\Lista5\\venv\\lib\\site-packages\\pybind11\\include\\pybind11\\pybind11.h(1604): note: or       'pybind11::class_<fasttext::Vector> &pybind11::class_<fasttext::Vector>::def(const pybind11::detail::initimpl::constructor<Args...> &,const Extra &...)'\n",
            "    D:\\University Projects\\SI\\Lista5\\venv\\lib\\site-packages\\pybind11\\include\\pybind11\\pybind11.h(1592): note: or       'pybind11::class_<fasttext::Vector> &pybind11::class_<fasttext::Vector>::def(const T &,const Extra &...)'\n",
            "    D:\\University Projects\\SI\\Lista5\\venv\\lib\\site-packages\\pybind11\\include\\pybind11\\pybind11.h(1567): note: or       'pybind11::class_<fasttext::Vector> &pybind11::class_<fasttext::Vector>::def(const char *,Func &&,const Extra &...)'\n",
            "    python/fasttext_module/fasttext/pybind/fasttext_pybind.cc(171): note: 'pybind11::class_<fasttext::Vector> &pybind11::class_<fasttext::Vector>::def(const char *,Func &&,const Extra &...)': expects 3 arguments - 1 provided\n",
            "    python/fasttext_module/fasttext/pybind/fasttext_pybind.cc(185): error C2065: 'ssize_t': undeclared identifier\n",
            "    python/fasttext_module/fasttext/pybind/fasttext_pybind.cc(185): error C2065: 'ssize_t': undeclared identifier\n",
            "    python/fasttext_module/fasttext/pybind/fasttext_pybind.cc(185): error C2672: 'pybind11::init': no matching overloaded function found\n",
            "    D:\\University Projects\\SI\\Lista5\\venv\\lib\\site-packages\\pybind11\\include\\pybind11\\pybind11.h(1924): note: could be 'Ret pybind11::init(CFunc &&,AFunc &&)'\n",
            "    python/fasttext_module/fasttext/pybind/fasttext_pybind.cc(185): note: 'pybind11::init': invalid template argument for 'CFunc', type expected\n",
            "    D:\\University Projects\\SI\\Lista5\\venv\\lib\\site-packages\\pybind11\\include\\pybind11\\pybind11.h(1916): note: or       'Ret pybind11::init(Func &&)'\n",
            "    python/fasttext_module/fasttext/pybind/fasttext_pybind.cc(185): note: 'pybind11::init': invalid template argument for 'Func', type expected\n",
            "    D:\\University Projects\\SI\\Lista5\\venv\\lib\\site-packages\\pybind11\\include\\pybind11\\pybind11.h(1904): note: or       'pybind11::detail::initimpl::constructor<Args...> pybind11::init(void)'\n",
            "    python/fasttext_module/fasttext/pybind/fasttext_pybind.cc(185): note: 'pybind11::init': invalid template argument for 'Args', type expected\n",
            "    python/fasttext_module/fasttext/pybind/fasttext_pybind.cc(185): error C2672: 'pybind11::class_<fasttext::DenseMatrix>::def': no matching overloaded function found\n",
            "    D:\\University Projects\\SI\\Lista5\\venv\\lib\\site-packages\\pybind11\\include\\pybind11\\pybind11.h(1624): note: could be 'pybind11::class_<fasttext::DenseMatrix> &pybind11::class_<fasttext::DenseMatrix>::def(pybind11::detail::initimpl::pickle_factory<Args...> &&,const Extra &...)'\n",
            "    D:\\University Projects\\SI\\Lista5\\venv\\lib\\site-packages\\pybind11\\include\\pybind11\\pybind11.h(1618): note: or       'pybind11::class_<fasttext::DenseMatrix> &pybind11::class_<fasttext::DenseMatrix>::def(pybind11::detail::initimpl::factory<Args...> &&,const Extra &...)'\n",
            "    D:\\University Projects\\SI\\Lista5\\venv\\lib\\site-packages\\pybind11\\include\\pybind11\\pybind11.h(1611): note: or       'pybind11::class_<fasttext::DenseMatrix> &pybind11::class_<fasttext::DenseMatrix>::def(const pybind11::detail::initimpl::alias_constructor<Args...> &,const Extra &...)'\n",
            "    D:\\University Projects\\SI\\Lista5\\venv\\lib\\site-packages\\pybind11\\include\\pybind11\\pybind11.h(1604): note: or       'pybind11::class_<fasttext::DenseMatrix> &pybind11::class_<fasttext::DenseMatrix>::def(const pybind11::detail::initimpl::constructor<Args...> &,const Extra &...)'\n",
            "    D:\\University Projects\\SI\\Lista5\\venv\\lib\\site-packages\\pybind11\\include\\pybind11\\pybind11.h(1592): note: or       'pybind11::class_<fasttext::DenseMatrix> &pybind11::class_<fasttext::DenseMatrix>::def(const T &,const Extra &...)'\n",
            "    D:\\University Projects\\SI\\Lista5\\venv\\lib\\site-packages\\pybind11\\include\\pybind11\\pybind11.h(1567): note: or       'pybind11::class_<fasttext::DenseMatrix> &pybind11::class_<fasttext::DenseMatrix>::def(const char *,Func &&,const Extra &...)'\n",
            "    python/fasttext_module/fasttext/pybind/fasttext_pybind.cc(185): note: 'pybind11::class_<fasttext::DenseMatrix> &pybind11::class_<fasttext::DenseMatrix>::def(const char *,Func &&,const Extra &...)': expects 3 arguments - 1 provided\n",
            "    error: command 'C:\\\\Program Files\\\\Microsoft Visual Studio\\\\2022\\\\Community\\\\VC\\\\Tools\\\\MSVC\\\\14.34.31933\\\\bin\\\\HostX86\\\\x64\\\\cl.exe' failed with exit code 2\n",
            "    ----------------------------------------\n",
            "ERROR: Command errored out with exit status 1: 'D:\\University Projects\\SI\\Lista5\\venv\\Scripts\\python.exe' -u -c 'import io, os, sys, setuptools, tokenize; sys.argv[0] = '\"'\"'C:\\\\Users\\\\Lenovo\\\\AppData\\\\Local\\\\Temp\\\\pip-install-1rwj6oh0\\\\fasttext_3e8e2613850949db9d6401706471c74b\\\\setup.py'\"'\"'; __file__='\"'\"'C:\\\\Users\\\\Lenovo\\\\AppData\\\\Local\\\\Temp\\\\pip-install-1rwj6oh0\\\\fasttext_3e8e2613850949db9d6401706471c74b\\\\setup.py'\"'\"';f = getattr(tokenize, '\"'\"'open'\"'\"', open)(__file__) if os.path.exists(__file__) else io.StringIO('\"'\"'from setuptools import setup; setup()'\"'\"');code = f.read().replace('\"'\"'\\r\\n'\"'\"', '\"'\"'\\n'\"'\"');f.close();exec(compile(code, __file__, '\"'\"'exec'\"'\"'))' install --record 'C:\\Users\\Lenovo\\AppData\\Local\\Temp\\pip-record-iqutncws\\install-record.txt' --single-version-externally-managed --compile --install-headers 'D:\\University Projects\\SI\\Lista5\\venv\\include\\site\\python3.10\\fasttext' Check the logs for full command output.\n",
            "WARNING: You are using pip version 21.2.4; however, version 23.1.2 is available.\n",
            "You should consider upgrading via the 'D:\\University Projects\\SI\\Lista5\\venv\\Scripts\\python.exe -m pip install --upgrade pip' command.\n"
          ]
        }
      ],
      "source": [
        "!sudo apt install wget gzip\n",
        "!pip install fasttext numpy"
      ]
    },
    {
      "attachments": {},
      "cell_type": "markdown",
      "metadata": {
        "id": "54IdLhDWY5hX"
      },
      "source": [
        "<h3>Import module</h3>"
      ]
    },
    {
      "cell_type": "code",
      "execution_count": 4,
      "metadata": {
        "id": "e-mJqwfdY_dv"
      },
      "outputs": [
        {
          "ename": "ModuleNotFoundError",
          "evalue": "No module named 'fasttext.util'",
          "output_type": "error",
          "traceback": [
            "\u001b[1;31m---------------------------------------------------------------------------\u001b[0m",
            "\u001b[1;31mModuleNotFoundError\u001b[0m                       Traceback (most recent call last)",
            "Cell \u001b[1;32mIn[4], line 1\u001b[0m\n\u001b[1;32m----> 1\u001b[0m \u001b[39mimport\u001b[39;00m \u001b[39mfasttext\u001b[39;00m\u001b[39m.\u001b[39;00m\u001b[39mutil\u001b[39;00m\n\u001b[0;32m      2\u001b[0m \u001b[39mimport\u001b[39;00m \u001b[39mnumpy\u001b[39;00m \u001b[39mas\u001b[39;00m \u001b[39mnp\u001b[39;00m\n",
            "\u001b[1;31mModuleNotFoundError\u001b[0m: No module named 'fasttext.util'"
          ]
        }
      ],
      "source": [
        "import fasttext.util\n",
        "import numpy as np"
      ]
    },
    {
      "attachments": {},
      "cell_type": "markdown",
      "metadata": {
        "id": "s-QPrL6SZA96"
      },
      "source": [
        "<h3>Download and unzip fastText model</h3>"
      ]
    },
    {
      "cell_type": "code",
      "execution_count": 5,
      "metadata": {
        "colab": {
          "base_uri": "https://localhost:8080/"
        },
        "id": "IpvIpv_Tb0Cw",
        "outputId": "8362d4c2-577f-4902-badf-48a963713a86"
      },
      "outputs": [
        {
          "name": "stderr",
          "output_type": "stream",
          "text": [
            "'wget' is not recognized as an internal or external command,\n",
            "operable program or batch file.\n"
          ]
        }
      ],
      "source": [
        "!wget -O cc.en.300.bin.gz https://dl.fbaipublicfiles.com/fasttext/vectors-crawl/cc.en.300.bin.gz"
      ]
    },
    {
      "attachments": {},
      "cell_type": "markdown",
      "metadata": {
        "id": "M264_L40dEd3"
      },
      "source": [
        "<h3>Unzip previously downloaded model</h3>"
      ]
    },
    {
      "cell_type": "code",
      "execution_count": 8,
      "metadata": {
        "id": "EdHki7zgdJiW"
      },
      "outputs": [],
      "source": [
        "!gzip -d cc.en.300.bin.gz"
      ]
    },
    {
      "attachments": {},
      "cell_type": "markdown",
      "metadata": {
        "id": "VUEz7VUMZIKS"
      },
      "source": [
        "<h3>Load model</h3>"
      ]
    },
    {
      "cell_type": "code",
      "execution_count": 10,
      "metadata": {
        "colab": {
          "base_uri": "https://localhost:8080/"
        },
        "id": "RBAFxfqxYmDb",
        "outputId": "2095a2ba-a6b4-4b3f-cec0-29d4bbb566b3"
      },
      "outputs": [
        {
          "name": "stderr",
          "output_type": "stream",
          "text": [
            "Warning : `load_model` does not return WordVectorModel or SupervisedModel any more, but a `FastText` object which is very similar.\n"
          ]
        }
      ],
      "source": [
        "model = fasttext.load_model('cc.en.300.bin')"
      ]
    },
    {
      "attachments": {},
      "cell_type": "markdown",
      "metadata": {
        "id": "65qCZcPhZW01"
      },
      "source": [
        "<h3>Generate embeddings for the specified list of texts</h3>"
      ]
    },
    {
      "cell_type": "code",
      "execution_count": 17,
      "metadata": {
        "colab": {
          "base_uri": "https://localhost:8080/"
        },
        "id": "OseM-d65ZX6S",
        "outputId": "1886926a-1c58-49db-c790-f4844c9551c0"
      },
      "outputs": [
        {
          "data": {
            "text/plain": [
              "(2, 300)"
            ]
          },
          "execution_count": 17,
          "metadata": {},
          "output_type": "execute_result"
        }
      ],
      "source": [
        "texts_list = [\"Hello, my dog is cute.\", \"I love Artificial Intelligence. Machine Learning is my passion!\"]\n",
        "\n",
        "embeddings = np.array([model.get_sentence_vector(text) for text in texts_list])\n",
        "\n",
        "embeddings.shape"
      ]
    }
  ],
  "metadata": {
    "colab": {
      "provenance": []
    },
    "kernelspec": {
      "display_name": "Python 3",
      "name": "python3"
    },
    "language_info": {
      "codemirror_mode": {
        "name": "ipython",
        "version": 3
      },
      "file_extension": ".py",
      "mimetype": "text/x-python",
      "name": "python",
      "nbconvert_exporter": "python",
      "pygments_lexer": "ipython3",
      "version": "3.10.10"
    }
  },
  "nbformat": 4,
  "nbformat_minor": 0
}
